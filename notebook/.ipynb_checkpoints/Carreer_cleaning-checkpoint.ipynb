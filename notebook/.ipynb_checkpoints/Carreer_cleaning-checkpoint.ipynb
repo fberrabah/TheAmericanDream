{
 "cells": [
  {
   "cell_type": "code",
   "execution_count": 1,
   "metadata": {},
   "outputs": [],
   "source": [
    "import pandas as pd\n",
    "import sqlalchemy\n",
    "import mysql.connector\n",
    "\n",
    "#Pour que python reconnaisse un dossier comme un module il faut ajouter en son sein un fichier __init__.py \n",
    "#et également l'ajouter au PATH\n",
    "\n",
    "import sys  \n",
    "\n",
    "sys.path.insert(0, \"/home/apprenant/Desktop/AmericanDream/\")\n",
    "\n",
    "\n",
    "#On peut ensuite importer le dossier comme un module\n",
    "\n",
    "from src.d00_utils.mysql_utils import mysql_connect, save_to_mysql\n",
    "connect = mysql_connect()"
   ]
  },
  {
   "cell_type": "markdown",
   "metadata": {},
   "source": [
    "Importation des données depuis my sql\n"
   ]
  },
  {
   "cell_type": "markdown",
   "metadata": {},
   "source": [
    "##1. Selection des colonnes\n",
    "J'affiche un échantillon de mes données pour analyser la pertinence des différentes colonnes    "
   ]
  },
  {
   "cell_type": "code",
   "execution_count": 2,
   "metadata": {},
   "outputs": [],
   "source": [
    "data = pd.read_sql(\"Analyst\",con=connect)\n",
    "data2 = pd.read_sql(\"Salary\",con=connect)"
   ]
  },
  {
   "cell_type": "code",
   "execution_count": 4,
   "metadata": {},
   "outputs": [
    {
     "name": "stdout",
     "output_type": "stream",
     "text": [
      "   index  Survey Year           Timestamp  SalaryUSD        Country  \\\n",
      "0      0         2020 2020-01-04 18:50:34   115000.0  United States   \n",
      "1      1         2020 2020-01-04 10:43:02   100000.0  United States   \n",
      "2      2         2020 2020-01-04 09:51:46   100000.0          Spain   \n",
      "3      3         2020 2020-01-04 01:08:54    70000.0  United States   \n",
      "4      4         2020 2020-01-03 15:28:54   110000.0  United States   \n",
      "\n",
      "  PostalCode       PrimaryDatabase  YearsWithThisDatabase  \\\n",
      "0         03  Microsoft SQL Server                     15   \n",
      "1       None                 Other                      6   \n",
      "2      28046  Microsoft SQL Server                      2   \n",
      "3      94133  Microsoft SQL Server                      3   \n",
      "4      95354                Oracle                     30   \n",
      "\n",
      "                                      OtherDatabases    EmploymentStatus  ...  \\\n",
      "0  Microsoft SQL Server, MongoDB, Azure SQL DB (a...  Full time employee  ...   \n",
      "1                                      MySQL/MariaDB  Full time employee  ...   \n",
      "2                                      MySQL/MariaDB  Full time employee  ...   \n",
      "3                                   Microsoft Access  Full time employee  ...   \n",
      "4  Microsoft SQL Server, Oracle, MySQL/MariaDB, P...  Full time employee  ...   \n",
      "\n",
      "  NewestVersionInProduction OldestVersionInProduction  \\\n",
      "0           SQL Server 2019           SQL Server 2016   \n",
      "1                  informix                  informix   \n",
      "2           SQL Server 2017           SQL Server 2017   \n",
      "3           SQL Server 2016           SQL Server 2012   \n",
      "4           SQL Server 2016         SQL Server 2008R2   \n",
      "\n",
      "   PopulationOfLargestCityWithin20Miles  EmploymentSector  \\\n",
      "0                  20K-99K (large town)  Private business   \n",
      "1                      1M+ (metropolis)  Private business   \n",
      "2                      1M+ (metropolis)  Private business   \n",
      "3                      1M+ (metropolis)  Private business   \n",
      "4                      100K-299K (city)        Non-profit   \n",
      "\n",
      "  LookingForAnotherJob                     CareerPlansThisYear  Gender  \\\n",
      "0            Not Asked  Stay with the same employer, same role    Male   \n",
      "1            Not Asked                       Prefer not to say    Male   \n",
      "2            Not Asked  Stay with the same employer, same role    Male   \n",
      "3            Not Asked         Change both employers and roles    Male   \n",
      "4            Not Asked  Stay with the same employer, same role    Male   \n",
      "\n",
      "  OtherJobDuties KindsOfTasksPerformed Counter  \n",
      "0      Not Asked             Not Asked       1  \n",
      "1      Not Asked             Not Asked       1  \n",
      "2      Not Asked             Not Asked       1  \n",
      "3      Not Asked             Not Asked       1  \n",
      "4      Not Asked             Not Asked       1  \n",
      "\n",
      "[5 rows x 32 columns]\n",
      "Index(['index', 'Survey Year', 'Timestamp', 'SalaryUSD', 'Country',\n",
      "       'PostalCode', 'PrimaryDatabase', 'YearsWithThisDatabase',\n",
      "       'OtherDatabases', 'EmploymentStatus', 'JobTitle', 'ManageStaff',\n",
      "       'YearsWithThisTypeOfJob', 'HowManyCompanies', 'OtherPeopleOnYourTeam',\n",
      "       'CompanyEmployeesOverall', 'DatabaseServers', 'Education',\n",
      "       'EducationIsComputerRelated', 'Certifications', 'HoursWorkedPerWeek',\n",
      "       'TelecommuteDaysPerWeek', 'NewestVersionInProduction',\n",
      "       'OldestVersionInProduction', 'PopulationOfLargestCityWithin20Miles',\n",
      "       'EmploymentSector', 'LookingForAnotherJob', 'CareerPlansThisYear',\n",
      "       'Gender', 'OtherJobDuties', 'KindsOfTasksPerformed', 'Counter'],\n",
      "      dtype='object')\n"
     ]
    }
   ],
   "source": [
    "print(data2.head())\n",
    "print(data2.columns)"
   ]
  },
  {
   "cell_type": "code",
   "execution_count": 5,
   "metadata": {},
   "outputs": [],
   "source": [
    "data2 = data2[['index','SalaryUSD','Country','PostalCode','EmploymentStatus','JobTitle','ManageStaff','YearsWithThisTypeOfJob',\n",
    "          'HowManyCompanies','OtherPeopleOnYourTeam', 'CompanyEmployeesOverall',\n",
    "          'PopulationOfLargestCityWithin20Miles','EmploymentSector', 'LookingForAnotherJob', 'CareerPlansThisYear',\n",
    "          'Gender', 'OtherJobDuties']]"
   ]
  },
  {
   "cell_type": "markdown",
   "metadata": {},
   "source": [
    "Je fais la même chose pour la seconde table\n",
    "\n",
    "##2. Valeurs manquantes\n",
    "Recherche des valeurs manquantes"
   ]
  },
  {
   "cell_type": "code",
   "execution_count": 6,
   "metadata": {},
   "outputs": [
    {
     "name": "stdout",
     "output_type": "stream",
     "text": [
      "index                                      0\n",
      "SalaryUSD                                  0\n",
      "Country                                    0\n",
      "PostalCode                              1390\n",
      "EmploymentStatus                           0\n",
      "JobTitle                                   0\n",
      "ManageStaff                                0\n",
      "YearsWithThisTypeOfJob                     0\n",
      "HowManyCompanies                           0\n",
      "OtherPeopleOnYourTeam                      0\n",
      "CompanyEmployeesOverall                    0\n",
      "PopulationOfLargestCityWithin20Miles       0\n",
      "EmploymentSector                           0\n",
      "LookingForAnotherJob                       0\n",
      "CareerPlansThisYear                        0\n",
      "Gender                                     0\n",
      "OtherJobDuties                           620\n",
      "dtype: int64\n",
      "(8627, 17)\n"
     ]
    }
   ],
   "source": [
    "print(data2.isnull().sum()) \n",
    "print(data2.shape)"
   ]
  },
  {
   "cell_type": "markdown",
   "metadata": {},
   "source": [
    "\n",
    "Il me manque 1390 valeurs pour PostalCode et 620 pour OtherJobDUties sur un total de 8627 lignes. Ces deux colonnes ne sont pas au centre de mon études donc ça se vaut pas le cout de supprimer toute la ligne pour elles\n",
    "\n",
    "traitement de Postal code\n",
    "Cela ne ferait pas de sens de remplacer le code postal par un code postal arbitraire\n",
    "\n",
    "Traitement de OtherJobDuties"
   ]
  },
  {
   "cell_type": "code",
   "execution_count": 8,
   "metadata": {},
   "outputs": [],
   "source": [
    "data2 = data2[data2.Country == 'United States']"
   ]
  },
  {
   "cell_type": "code",
   "execution_count": 9,
   "metadata": {},
   "outputs": [
    {
     "name": "stdout",
     "output_type": "stream",
     "text": [
      "      index  SalaryUSD        Country PostalCode  \\\n",
      "0         0   115000.0  United States         03   \n",
      "1         1   100000.0  United States       None   \n",
      "3         3    70000.0  United States      94133   \n",
      "4         4   110000.0  United States      95354   \n",
      "5         5    79500.0  United States      78727   \n",
      "...     ...        ...            ...        ...   \n",
      "8609   8609    66000.0  United States  Not Asked   \n",
      "8611   8611    96000.0  United States  Not Asked   \n",
      "8612   8612    85000.0  United States  Not Asked   \n",
      "8614   8614   137500.0  United States  Not Asked   \n",
      "8626   8626   200000.0  United States  Not Asked   \n",
      "\n",
      "                                       EmploymentStatus  \\\n",
      "0                                    Full time employee   \n",
      "1                                    Full time employee   \n",
      "3                                    Full time employee   \n",
      "4                                    Full time employee   \n",
      "5                                    Full time employee   \n",
      "...                                                 ...   \n",
      "8609                                 Full time employee   \n",
      "8611                                 Full time employee   \n",
      "8612                                 Full time employee   \n",
      "8614  Full time employee of a consulting/contracting...   \n",
      "8626                                 Full time employee   \n",
      "\n",
      "                                               JobTitle ManageStaff  \\\n",
      "0     DBA (Production Focus - build & troubleshoot s...          No   \n",
      "1                     Developer: App code (C#, JS, etc)          No   \n",
      "3                                               Analyst          No   \n",
      "4     DBA (General - splits time evenly between writ...          No   \n",
      "5                                               Analyst          No   \n",
      "...                                                 ...         ...   \n",
      "8609                  Developer: App code (C#, JS, etc)          No   \n",
      "8611                                                DBA          No   \n",
      "8612                                                DBA          No   \n",
      "8614                                                DBA          No   \n",
      "8626                                                DBA          No   \n",
      "\n",
      "      YearsWithThisTypeOfJob  \\\n",
      "0                          5   \n",
      "1                          6   \n",
      "3                          3   \n",
      "4                         25   \n",
      "5                          2   \n",
      "...                      ...   \n",
      "8609                      10   \n",
      "8611                       5   \n",
      "8612                       2   \n",
      "8614                       6   \n",
      "8626                       5   \n",
      "\n",
      "                                       HowManyCompanies OtherPeopleOnYourTeam  \\\n",
      "0     1 (this is the only company where I've had thi...                     2   \n",
      "1     1 (this is the only company where I've had thi...           More than 5   \n",
      "3     1 (this is the only company where I've had thi...                     2   \n",
      "4                                                     3                  None   \n",
      "5     1 (this is the only company where I've had thi...                  None   \n",
      "...                                                 ...                   ...   \n",
      "8609                                          Not Asked                  None   \n",
      "8611                                          Not Asked                  None   \n",
      "8612                                          Not Asked                  None   \n",
      "8614                                          Not Asked                     4   \n",
      "8626                                          Not Asked                     2   \n",
      "\n",
      "     CompanyEmployeesOverall PopulationOfLargestCityWithin20Miles  \\\n",
      "0                  Not Asked                 20K-99K (large town)   \n",
      "1                  Not Asked                     1M+ (metropolis)   \n",
      "3                  Not Asked                     1M+ (metropolis)   \n",
      "4                  Not Asked                     100K-299K (city)   \n",
      "5                  Not Asked                     1M+ (metropolis)   \n",
      "...                      ...                                  ...   \n",
      "8609               Not Asked                            Not Asked   \n",
      "8611               Not Asked                            Not Asked   \n",
      "8612               Not Asked                            Not Asked   \n",
      "8614               Not Asked                            Not Asked   \n",
      "8626               Not Asked                            Not Asked   \n",
      "\n",
      "      EmploymentSector                    LookingForAnotherJob  \\\n",
      "0     Private business                               Not Asked   \n",
      "1     Private business                               Not Asked   \n",
      "3     Private business                               Not Asked   \n",
      "4           Non-profit                               Not Asked   \n",
      "5     Private business                               Not Asked   \n",
      "...                ...                                     ...   \n",
      "8609  Private business  Yes, but only passively (just curious)   \n",
      "8611  Private business  Yes, but only passively (just curious)   \n",
      "8612  Private business  Yes, but only passively (just curious)   \n",
      "8614  Private business                                      No   \n",
      "8626  Private business  Yes, but only passively (just curious)   \n",
      "\n",
      "                         CareerPlansThisYear     Gender OtherJobDuties  \n",
      "0     Stay with the same employer, same role       Male      Not Asked  \n",
      "1                          Prefer not to say       Male      Not Asked  \n",
      "3            Change both employers and roles       Male      Not Asked  \n",
      "4     Stay with the same employer, same role       Male      Not Asked  \n",
      "5     Stay with the same employer, same role       Male      Not Asked  \n",
      "...                                      ...        ...            ...  \n",
      "8609                               Not Asked  Not Asked      Not Asked  \n",
      "8611                               Not Asked  Not Asked      Not Asked  \n",
      "8612                               Not Asked  Not Asked      Not Asked  \n",
      "8614                               Not Asked  Not Asked      Not Asked  \n",
      "8626                               Not Asked  Not Asked      Not Asked  \n",
      "\n",
      "[5680 rows x 17 columns]\n"
     ]
    }
   ],
   "source": [
    "print(data2)"
   ]
  },
  {
   "cell_type": "code",
   "execution_count": 10,
   "metadata": {},
   "outputs": [
    {
     "name": "stdout",
     "output_type": "stream",
     "text": [
      "index                                     int64\n",
      "SalaryUSD                               float64\n",
      "Country                                  object\n",
      "PostalCode                               object\n",
      "EmploymentStatus                         object\n",
      "JobTitle                                 object\n",
      "ManageStaff                              object\n",
      "YearsWithThisTypeOfJob                    int64\n",
      "HowManyCompanies                         object\n",
      "OtherPeopleOnYourTeam                    object\n",
      "CompanyEmployeesOverall                  object\n",
      "PopulationOfLargestCityWithin20Miles     object\n",
      "EmploymentSector                         object\n",
      "LookingForAnotherJob                     object\n",
      "CareerPlansThisYear                      object\n",
      "Gender                                   object\n",
      "OtherJobDuties                           object\n",
      "dtype: object\n"
     ]
    }
   ],
   "source": [
    "print(data2.dtypes)"
   ]
  },
  {
   "cell_type": "markdown",
   "metadata": {},
   "source": [
    "Aucune de mes colonnes ne correspond à une date, je n'ai donc pas à faire de traitement\n",
    "\n",
    "##4. Traitement des doublons"
   ]
  },
  {
   "cell_type": "code",
   "execution_count": 11,
   "metadata": {},
   "outputs": [
    {
     "name": "stdout",
     "output_type": "stream",
     "text": [
      "False    5680\n",
      "dtype: int64\n"
     ]
    }
   ],
   "source": [
    "\n",
    "print(data2.duplicated().value_counts())"
   ]
  },
  {
   "cell_type": "markdown",
   "metadata": {},
   "source": [
    "Aucune des colonnes de ma base n'est dupliquée, je vérifie cependant que c'est également le cas sur la colonne index"
   ]
  },
  {
   "cell_type": "code",
   "execution_count": 12,
   "metadata": {},
   "outputs": [
    {
     "name": "stdout",
     "output_type": "stream",
     "text": [
      "False    5680\n",
      "dtype: int64\n"
     ]
    }
   ],
   "source": [
    "\n",
    "print(data2.duplicated('index').value_counts())"
   ]
  },
  {
   "cell_type": "markdown",
   "metadata": {},
   "source": [
    "On est bon.\n",
    "\n",
    "to be continued\n",
    "Avant de partir je sauvegarde mon travail dans my sql"
   ]
  },
  {
   "cell_type": "code",
   "execution_count": null,
   "metadata": {},
   "outputs": [],
   "source": [
    "save_to_mysql(db_connect=connect,df_to_save=data2,df_name='Salary_01_v1.0')"
   ]
  },
  {
   "cell_type": "code",
   "execution_count": null,
   "metadata": {},
   "outputs": [],
   "source": [
    "print(data.head())\n",
    "print(data.columns)"
   ]
  },
  {
   "cell_type": "code",
   "execution_count": 72,
   "metadata": {},
   "outputs": [],
   "source": [
    "data = data[['index', 'Job Title', 'Salary Estimate',\n",
    "       'Job Description', 'Company Name', 'Location','Headquarters',\n",
    "       'Size', 'Type of ownership', 'Industry', 'Sector', 'Revenue']]"
   ]
  },
  {
   "cell_type": "code",
   "execution_count": 73,
   "metadata": {},
   "outputs": [
    {
     "name": "stdout",
     "output_type": "stream",
     "text": [
      "index                0\n",
      "Job Title            0\n",
      "Salary Estimate      0\n",
      "Job Description      0\n",
      "Company Name         1\n",
      "Location             0\n",
      "Headquarters         0\n",
      "Size                 0\n",
      "Type of ownership    0\n",
      "Industry             0\n",
      "Sector               0\n",
      "Revenue              0\n",
      "dtype: int64\n",
      "(2253, 12)\n"
     ]
    }
   ],
   "source": [
    "print(data.isnull().sum()) \n",
    "print(data.shape)"
   ]
  },
  {
   "cell_type": "markdown",
   "metadata": {},
   "source": [
    "La data est plutot clean une seul erreur je ne toucherai donc pas "
   ]
  },
  {
   "cell_type": "code",
   "execution_count": 74,
   "metadata": {},
   "outputs": [
    {
     "name": "stdout",
     "output_type": "stream",
     "text": [
      "index                 int64\n",
      "Job Title            object\n",
      "Salary Estimate      object\n",
      "Job Description      object\n",
      "Company Name         object\n",
      "Location             object\n",
      "Headquarters         object\n",
      "Size                 object\n",
      "Type of ownership    object\n",
      "Industry             object\n",
      "Sector               object\n",
      "Revenue              object\n",
      "dtype: object\n"
     ]
    }
   ],
   "source": [
    "print(data.dtypes)\n"
   ]
  },
  {
   "cell_type": "code",
   "execution_count": 75,
   "metadata": {},
   "outputs": [
    {
     "name": "stdout",
     "output_type": "stream",
     "text": [
      "False    2253\n",
      "dtype: int64\n"
     ]
    }
   ],
   "source": [
    "print(data.duplicated().value_counts())"
   ]
  },
  {
   "cell_type": "code",
   "execution_count": null,
   "metadata": {},
   "outputs": [],
   "source": [
    "print(data.duplicated('index').value_counts())"
   ]
  },
  {
   "cell_type": "code",
   "execution_count": null,
   "metadata": {},
   "outputs": [],
   "source": [
    "save_to_mysql(db_connect=connect,df_to_save=data,df_name='Analyst_01_v1.0')"
   ]
  }
 ],
 "metadata": {
  "kernelspec": {
   "display_name": "Python 3",
   "language": "python",
   "name": "python3"
  },
  "language_info": {
   "codemirror_mode": {
    "name": "ipython",
    "version": 3
   },
   "file_extension": ".py",
   "mimetype": "text/x-python",
   "name": "python",
   "nbconvert_exporter": "python",
   "pygments_lexer": "ipython3",
   "version": "3.8.5"
  }
 },
 "nbformat": 4,
 "nbformat_minor": 2
}
