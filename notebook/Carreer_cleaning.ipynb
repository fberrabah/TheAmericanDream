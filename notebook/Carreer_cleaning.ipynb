{
 "metadata": {
  "language_info": {
   "codemirror_mode": {
    "name": "ipython",
    "version": 3
   },
   "file_extension": ".py",
   "mimetype": "text/x-python",
   "name": "python",
   "nbconvert_exporter": "python",
   "pygments_lexer": "ipython3",
   "version": "3.8.5-final"
  },
  "orig_nbformat": 2,
  "kernelspec": {
   "name": "python3",
   "display_name": "Python 3",
   "language": "python"
  }
 },
 "nbformat": 4,
 "nbformat_minor": 2,
 "cells": [
  {
   "cell_type": "code",
   "execution_count": 6,
   "metadata": {},
   "outputs": [],
   "source": [
    "import pandas as pd\n",
    "import sqlalchemy\n",
    "import mysql.connector\n",
    "\n",
    "#Pour que python reconnaisse un dossier comme un module il faut ajouter en son sein un fichier __init__.py \n",
    "#et également l'ajouter au PATH\n",
    "\n",
    "import sys  \n",
    "\n",
    "sys.path.insert(0, \"/home/apprenant/Desktop/AmericanDream/\")\n",
    "\n",
    "\n",
    "#On peut ensuite importer le dossier comme un module\n",
    "\n",
    "from src.d00_utils.mysql_utils import mysql_connect, save_to_mysql\n",
    "connect = mysql_connect()"
   ]
  },
  {
   "source": [
    "Importation des données depuis my sql\n"
   ],
   "cell_type": "markdown",
   "metadata": {}
  },
  {
   "cell_type": "code",
   "execution_count": null,
   "metadata": {},
   "outputs": [],
   "source": [
    "data = pd.read_sql(\"Analyst\",con=connect)\n",
    "data2 = pd.read_sql(\"Salary\",con=connect)"
   ]
  },
  {
   "source": [
    "##1. Selection des colonnes\n",
    "J'affiche un échantillno de mes données pour analyser la pertinence des différentes colonnes    "
   ],
   "cell_type": "markdown",
   "metadata": {}
  },
  {
   "cell_type": "code",
   "execution_count": 10,
   "metadata": {},
   "outputs": [
    {
     "output_type": "stream",
     "name": "stdout",
     "text": [
      "   index  Survey Year           Timestamp  SalaryUSD        Country  \\\n0      0         2020 2020-01-04 18:50:34   115000.0  United States   \n1      1         2020 2020-01-04 10:43:02   100000.0  United States   \n2      2         2020 2020-01-04 09:51:46   100000.0          Spain   \n3      3         2020 2020-01-04 01:08:54    70000.0  United States   \n4      4         2020 2020-01-03 15:28:54   110000.0  United States   \n\n  PostalCode       PrimaryDatabase  YearsWithThisDatabase  \\\n0         03  Microsoft SQL Server                     15   \n1       None                 Other                      6   \n2      28046  Microsoft SQL Server                      2   \n3      94133  Microsoft SQL Server                      3   \n4      95354                Oracle                     30   \n\n                                      OtherDatabases    EmploymentStatus  ...  \\\n0  Microsoft SQL Server, MongoDB, Azure SQL DB (a...  Full time employee  ...   \n1                                      MySQL/MariaDB  Full time employee  ...   \n2                                      MySQL/MariaDB  Full time employee  ...   \n3                                   Microsoft Access  Full time employee  ...   \n4  Microsoft SQL Server, Oracle, MySQL/MariaDB, P...  Full time employee  ...   \n\n  NewestVersionInProduction OldestVersionInProduction  \\\n0           SQL Server 2019           SQL Server 2016   \n1                  informix                  informix   \n2           SQL Server 2017           SQL Server 2017   \n3           SQL Server 2016           SQL Server 2012   \n4           SQL Server 2016         SQL Server 2008R2   \n\n   PopulationOfLargestCityWithin20Miles  EmploymentSector  \\\n0                  20K-99K (large town)  Private business   \n1                      1M+ (metropolis)  Private business   \n2                      1M+ (metropolis)  Private business   \n3                      1M+ (metropolis)  Private business   \n4                      100K-299K (city)        Non-profit   \n\n  LookingForAnotherJob                     CareerPlansThisYear  Gender  \\\n0            Not Asked  Stay with the same employer, same role    Male   \n1            Not Asked                       Prefer not to say    Male   \n2            Not Asked  Stay with the same employer, same role    Male   \n3            Not Asked         Change both employers and roles    Male   \n4            Not Asked  Stay with the same employer, same role    Male   \n\n  OtherJobDuties KindsOfTasksPerformed Counter  \n0      Not Asked             Not Asked       1  \n1      Not Asked             Not Asked       1  \n2      Not Asked             Not Asked       1  \n3      Not Asked             Not Asked       1  \n4      Not Asked             Not Asked       1  \n\n[5 rows x 32 columns]\nIndex(['index', 'Survey Year', 'Timestamp', 'SalaryUSD', 'Country',\n       'PostalCode', 'PrimaryDatabase', 'YearsWithThisDatabase',\n       'OtherDatabases', 'EmploymentStatus', 'JobTitle', 'ManageStaff',\n       'YearsWithThisTypeOfJob', 'HowManyCompanies', 'OtherPeopleOnYourTeam',\n       'CompanyEmployeesOverall', 'DatabaseServers', 'Education',\n       'EducationIsComputerRelated', 'Certifications', 'HoursWorkedPerWeek',\n       'TelecommuteDaysPerWeek', 'NewestVersionInProduction',\n       'OldestVersionInProduction', 'PopulationOfLargestCityWithin20Miles',\n       'EmploymentSector', 'LookingForAnotherJob', 'CareerPlansThisYear',\n       'Gender', 'OtherJobDuties', 'KindsOfTasksPerformed', 'Counter'],\n      dtype='object')\n"
     ]
    }
   ],
   "source": [
    "print(data2.head())\n",
    "print(data2.columns)"
   ]
  },
  {
   "source": [],
   "cell_type": "markdown",
   "metadata": {}
  },
  {
   "cell_type": "code",
   "execution_count": 11,
   "metadata": {},
   "outputs": [],
   "source": [
    "data2 = data2[['index','SalaryUSD','Country','PostalCode','EmploymentStatus','JobTitle','ManageStaff','YearsWithThisTypeOfJob',\n",
    "          'HowManyCompanies','OtherPeopleOnYourTeam', 'CompanyEmployeesOverall',\n",
    "          'PopulationOfLargestCityWithin20Miles','EmploymentSector', 'LookingForAnotherJob', 'CareerPlansThisYear',\n",
    "          'Gender', 'OtherJobDuties']]"
   ]
  },
  {
   "source": [
    "Je fais la même chose pour la seconde table\n",
    "\n",
    "##2. Valeurs manquantes\n",
    "Recherche des valeurs manquantes"
   ],
   "cell_type": "markdown",
   "metadata": {}
  },
  {
   "cell_type": "code",
   "execution_count": 18,
   "metadata": {},
   "outputs": [
    {
     "output_type": "stream",
     "name": "stdout",
     "text": [
      "index                                      0\nSalaryUSD                                  0\nCountry                                    0\nPostalCode                              1390\nEmploymentStatus                           0\nJobTitle                                   0\nManageStaff                                0\nYearsWithThisTypeOfJob                     0\nHowManyCompanies                           0\nOtherPeopleOnYourTeam                      0\nCompanyEmployeesOverall                    0\nPopulationOfLargestCityWithin20Miles       0\nEmploymentSector                           0\nLookingForAnotherJob                       0\nCareerPlansThisYear                        0\nGender                                     0\nOtherJobDuties                           620\ndtype: int64\n(8627, 17)\n"
     ]
    }
   ],
   "source": [
    "print(data2.isnull().sum()) \n",
    "print(data2.shape)"
   ]
  },
  {
   "source": [
    "\n",
    "Il me manque 1390 veleurs pour PostalCode et 620 pour OtherJobDUties sur un total de 8627 lignes. Ces deux colonnes ne sont pas au centre de mon études donc ça se vaut pas le cout de supprimer toute la ligne pour elles\n",
    "\n",
    "traitement de Postal code\n",
    "Cela ne ferait pas de sens de remplacer le code postal par un code postal arbitraire\n",
    "\n",
    "Traitement de OtherJobDuties"
   ],
   "cell_type": "markdown",
   "metadata": {}
  },
  {
   "cell_type": "code",
   "execution_count": 20,
   "metadata": {
    "tags": [
     "outputPrepend"
    ]
   },
   "outputs": [
    {
     "output_type": "stream",
     "name": "stdout",
     "text": [
      "es queries, indexes, does deployments), Engineer, Manager'\n 'Architect, Data Scientist, Developer: T-SQL, Engineer'\n 'DBA (Production Focus - build & troubleshoot servers, HA/DR), DBA (General - splits time evenly between writing & tuning queries AND building & troubleshooting servers), Engineer, Manager'\n 'Architect, DBA (Production Focus - build & troubleshoot servers, HA/DR), DBA (General - splits time evenly between writing & tuning queries AND building & troubleshooting servers), Developer: App code (C#, JS, etc)'\n 'Developer: App code (C#, JS, etc), Developer: Business Intelligence (SSRS, PowerBI, etc), Developer: T-SQL, Engineer, Manager'\n 'Analyst, Architect, DBA (Development Focus - tunes queries, indexes, does deployments), DBA (Production Focus - build & troubleshoot servers, HA/DR), Developer: App code (C#, JS, etc), Developer: T-SQL, Manager'\n 'Analyst, Architect, DBA (Development Focus - tunes queries, indexes, does deployments), DBA (General - splits time evenly between writing & tuning queries AND building & troubleshooting servers), Developer: App code (C#, JS, etc), Developer: T-SQL, Engineer, Manager'\n 'Analyst, Architect, DBA (Development Focus - tunes queries, indexes, does deployments), Developer: Business Intelligence (SSRS, PowerBI, etc), Developer: T-SQL, Engineer, Manager'\n 'Analyst, DBA (Development Focus - tunes queries, indexes, does deployments), Developer: App code (C#, JS, etc), Developer: T-SQL, Manager'\n 'Data Scientist, DBA (General - splits time evenly between writing & tuning queries AND building & troubleshooting servers), Developer: Business Intelligence (SSRS, PowerBI, etc)'\n 'Architect, Data Scientist, DBA (Development Focus - tunes queries, indexes, does deployments), Developer: App code (C#, JS, etc), Developer: T-SQL, Engineer, Manager'\n 'DBA (Production Focus - build & troubleshoot servers, HA/DR), Developer: App code (C#, JS, etc), Developer: Business Intelligence (SSRS, PowerBI, etc), Developer: T-SQL'\n 'Architect, Data Scientist, Developer: App code (C#, JS, etc), Developer: Business Intelligence (SSRS, PowerBI, etc), Developer: T-SQL'\n 'DBA (Development Focus - tunes queries, indexes, does deployments), DBA (Production Focus - build & troubleshoot servers, HA/DR), Developer: App code (C#, JS, etc), Developer: Business Intelligence (SSRS, PowerBI, etc)'\n 'DBA (Production Focus - build & troubleshoot servers, HA/DR), DBA (General - splits time evenly between writing & tuning queries AND building & troubleshooting servers), Developer: App code (C#, JS, etc), Developer: T-SQL'\n 'Architect, DBA (Production Focus - build & troubleshoot servers, HA/DR), Developer: T-SQL'\n 'DBA (Production Focus - build & troubleshoot servers, HA/DR), DBA (General - splits time evenly between writing & tuning queries AND building & troubleshooting servers), Developer: App code (C#, JS, etc), Developer: Business Intelligence (SSRS, PowerBI, etc), Developer: T-SQL, Manager'\n 'Analyst, Data Scientist, DBA (Development Focus - tunes queries, indexes, does deployments), Developer: App code (C#, JS, etc), Developer: T-SQL'\n 'Data Scientist, DBA (General - splits time evenly between writing & tuning queries AND building & troubleshooting servers), Developer: T-SQL'\n 'Analyst, Architect, Data Scientist, DBA (Development Focus - tunes queries, indexes, does deployments), DBA (Production Focus - build & troubleshoot servers, HA/DR), DBA (General - splits time evenly between writing & tuning queries AND building & troubleshooting servers), Developer: App code (C#, JS, etc), Developer: Business Intelligence (SSRS, PowerBI, etc), Engineer, Manager'\n 'Architect, DBA (Production Focus - build & troubleshoot servers, HA/DR), Developer: App code (C#, JS, etc), Developer: Business Intelligence (SSRS, PowerBI, etc), Developer: T-SQL'\n 'Analyst, Data Scientist, Developer: Business Intelligence (SSRS, PowerBI, etc), Engineer'\n 'Analyst, Architect, DBA (Development Focus - tunes queries, indexes, does deployments), DBA (Production Focus - build & troubleshoot servers, HA/DR), DBA (General - splits time evenly between writing & tuning queries AND building & troubleshooting servers), Developer: Business Intelligence (SSRS, PowerBI, etc), Developer: T-SQL, Engineer'\n 'Analyst, Architect, DBA (Development Focus - tunes queries, indexes, does deployments), DBA (Production Focus - build & troubleshoot servers, HA/DR), DBA (General - splits time evenly between writing & tuning queries AND building & troubleshooting servers), Developer: App code (C#, JS, etc), Developer: T-SQL'\n 'DBA (Development Focus - tunes queries, indexes, does deployments), DBA (Production Focus - build & troubleshoot servers, HA/DR), DBA (General - splits time evenly between writing & tuning queries AND building & troubleshooting servers), Developer: T-SQL, Engineer, Manager'\n 'Analyst, Architect, Data Scientist, DBA (Development Focus - tunes queries, indexes, does deployments), Developer: Business Intelligence (SSRS, PowerBI, etc), Engineer, Manager'\n 'Analyst, Architect, DBA (General - splits time evenly between writing & tuning queries AND building & troubleshooting servers), Developer: App code (C#, JS, etc), Developer: Business Intelligence (SSRS, PowerBI, etc), Developer: T-SQL, Engineer, Manager'\n 'DBA (Production Focus - build & troubleshoot servers, HA/DR), DBA (General - splits time evenly between writing & tuning queries AND building & troubleshooting servers), Developer: App code (C#, JS, etc)'\n 'Analyst, Architect, Data Scientist, DBA (Development Focus - tunes queries, indexes, does deployments), Developer: App code (C#, JS, etc), Developer: Business Intelligence (SSRS, PowerBI, etc), Developer: T-SQL'\n 'Analyst, DBA (Development Focus - tunes queries, indexes, does deployments), Engineer, Manager'\n 'Developer: App code (C#, JS, etc), Developer: Business Intelligence (SSRS, PowerBI, etc), Engineer'\n 'DBA (Development Focus - tunes queries, indexes, does deployments), DBA (Production Focus - build & troubleshoot servers, HA/DR), DBA (General - splits time evenly between writing & tuning queries AND building & troubleshooting servers), Developer: T-SQL, Manager'\n 'Analyst, Architect, DBA (Development Focus - tunes queries, indexes, does deployments), DBA (General - splits time evenly between writing & tuning queries AND building & troubleshooting servers), Developer: App code (C#, JS, etc), Manager'\n 'Analyst, Architect, Data Scientist, Developer: App code (C#, JS, etc), Developer: Business Intelligence (SSRS, PowerBI, etc), Developer: T-SQL, Manager'\n 'Architect, DBA (General - splits time evenly between writing & tuning queries AND building & troubleshooting servers), Developer: T-SQL, Engineer, Manager'\n 'Architect, Data Scientist, Developer: App code (C#, JS, etc), Developer: T-SQL'\n 'Architect, Data Scientist, DBA (General - splits time evenly between writing & tuning queries AND building & troubleshooting servers), Developer: T-SQL'\n 'Analyst, DBA (Development Focus - tunes queries, indexes, does deployments), DBA (Production Focus - build & troubleshoot servers, HA/DR), Engineer, Manager'\n 'DBA (Development Focus - tunes queries, indexes, does deployments), DBA (General - splits time evenly between writing & tuning queries AND building & troubleshooting servers), Engineer'\n 'Architect, Data Scientist, Developer: Business Intelligence (SSRS, PowerBI, etc), Developer: T-SQL'\n 'Architect, Developer: App code (C#, JS, etc), Engineer'\n 'Analyst, Architect, Developer: Business Intelligence (SSRS, PowerBI, etc), Manager'\n 'Analyst, Data Scientist, DBA (Development Focus - tunes queries, indexes, does deployments), DBA (Production Focus - build & troubleshoot servers, HA/DR), DBA (General - splits time evenly between writing & tuning queries AND building & troubleshooting servers), Developer: Business Intelligence (SSRS, PowerBI, etc), Developer: T-SQL'\n 'Analyst, DBA (Production Focus - build & troubleshoot servers, HA/DR), Developer: T-SQL'\n 'Analyst, DBA (General - splits time evenly between writing & tuning queries AND building & troubleshooting servers), Manager'\n 'Analyst, DBA (Development Focus - tunes queries, indexes, does deployments), DBA (General - splits time evenly between writing & tuning queries AND building & troubleshooting servers), Developer: App code (C#, JS, etc), Developer: Business Intelligence (SSRS, PowerBI, etc), Developer: T-SQL'\n 'Analyst, DBA (Development Focus - tunes queries, indexes, does deployments), Developer: App code (C#, JS, etc), Engineer'\n 'Data Scientist, DBA (Development Focus - tunes queries, indexes, does deployments), DBA (General - splits time evenly between writing & tuning queries AND building & troubleshooting servers), Developer: App code (C#, JS, etc), Developer: Business Intelligence (SSRS, PowerBI, etc), Developer: T-SQL'\n 'DBA (Development Focus - tunes queries, indexes, does deployments), DBA (Production Focus - build & troubleshoot servers, HA/DR), Developer: T-SQL, Manager'\n 'DBA (General - splits time evenly between writing & tuning queries AND building & troubleshooting servers), Developer: Business Intelligence (SSRS, PowerBI, etc), Developer: T-SQL, Engineer'\n 'Analyst, Data Scientist, DBA (Production Focus - build & troubleshoot servers, HA/DR), Developer: T-SQL'\n 'Analyst, Architect, Developer: App code (C#, JS, etc), Developer: Business Intelligence (SSRS, PowerBI, etc)'\n 'Architect, Data Scientist, DBA (Development Focus - tunes queries, indexes, does deployments), DBA (Production Focus - build & troubleshoot servers, HA/DR), Developer: App code (C#, JS, etc), Developer: Business Intelligence (SSRS, PowerBI, etc), Developer: T-SQL, Engineer, Manager'\n 'Architect, DBA (Development Focus - tunes queries, indexes, does deployments), DBA (General - splits time evenly between writing & tuning queries AND building & troubleshooting servers), Developer: Business Intelligence (SSRS, PowerBI, etc)'\n 'Analyst, Architect, DBA (Development Focus - tunes queries, indexes, does deployments), Developer: T-SQL, Engineer'\n 'Analyst, Architect, Developer: Business Intelligence (SSRS, PowerBI, etc), Developer: T-SQL, Manager'\n 'Architect, DBA (Development Focus - tunes queries, indexes, does deployments), DBA (Production Focus - build & troubleshoot servers, HA/DR), Developer: App code (C#, JS, etc), Developer: T-SQL, Engineer, Manager'\n 'DBA (Production Focus - build & troubleshoot servers, HA/DR), DBA (General - splits time evenly between writing & tuning queries AND building & troubleshooting servers), Engineer'\n 'Analyst, DBA (Development Focus - tunes queries, indexes, does deployments), DBA (Production Focus - build & troubleshoot servers, HA/DR), Developer: App code (C#, JS, etc), Developer: T-SQL, Engineer'\n 'Analyst, Architect, DBA (Development Focus - tunes queries, indexes, does deployments), DBA (Production Focus - build & troubleshoot servers, HA/DR), Developer: T-SQL, Manager'\n 'Architect, DBA (Development Focus - tunes queries, indexes, does deployments), DBA (Production Focus - build & troubleshoot servers, HA/DR), DBA (General - splits time evenly between writing & tuning queries AND building & troubleshooting servers), Developer: App code (C#, JS, etc), Developer: Business Intelligence (SSRS, PowerBI, etc), Developer: T-SQL'\n 'Analyst, DBA (Development Focus - tunes queries, indexes, does deployments), DBA (General - splits time evenly between writing & tuning queries AND building & troubleshooting servers)'\n 'Architect, Developer: Business Intelligence (SSRS, PowerBI, etc), Manager'\n 'Analyst, Architect, Developer: App code (C#, JS, etc), Engineer, Manager'\n 'Architect, Data Scientist, DBA (Development Focus - tunes queries, indexes, does deployments), Developer: App code (C#, JS, etc), Developer: Business Intelligence (SSRS, PowerBI, etc), Developer: T-SQL'\n 'Analyst, Architect, DBA (Development Focus - tunes queries, indexes, does deployments), DBA (Production Focus - build & troubleshoot servers, HA/DR), Developer: App code (C#, JS, etc), Developer: T-SQL, Engineer'\n 'Analyst, Architect, Data Scientist, DBA (General - splits time evenly between writing & tuning queries AND building & troubleshooting servers)'\n 'Analyst, Architect, Data Scientist, DBA (Development Focus - tunes queries, indexes, does deployments), DBA (General - splits time evenly between writing & tuning queries AND building & troubleshooting servers)'\n 'Analyst, Developer: Business Intelligence (SSRS, PowerBI, etc), Developer: T-SQL, Engineer'\n 'Architect, DBA (Development Focus - tunes queries, indexes, does deployments), DBA (Production Focus - build & troubleshoot servers, HA/DR), DBA (General - splits time evenly between writing & tuning queries AND building & troubleshooting servers), Developer: App code (C#, JS, etc), Developer: T-SQL'\n 'Analyst, Developer: T-SQL, Manager'\n 'Analyst, Data Scientist, Developer: App code (C#, JS, etc)'\n 'Data Scientist, DBA (Production Focus - build & troubleshoot servers, HA/DR), Developer: App code (C#, JS, etc), Developer: Business Intelligence (SSRS, PowerBI, etc), Engineer, Manager'\n 'Data Scientist, DBA (Production Focus - build & troubleshoot servers, HA/DR)'\n 'Data Scientist, Developer: Business Intelligence (SSRS, PowerBI, etc), Developer: T-SQL, Manager'\n 'Architect, Data Scientist, DBA (Development Focus - tunes queries, indexes, does deployments), DBA (Production Focus - build & troubleshoot servers, HA/DR), DBA (General - splits time evenly between writing & tuning queries AND building & troubleshooting servers), Developer: Business Intelligence (SSRS, PowerBI, etc), Developer: T-SQL'\n 'Architect, Developer: App code (C#, JS, etc), Developer: Business Intelligence (SSRS, PowerBI, etc)'\n 'Analyst, DBA (Development Focus - tunes queries, indexes, does deployments), Developer: App code (C#, JS, etc), Developer: Business Intelligence (SSRS, PowerBI, etc), Engineer'\n 'Data Scientist, Developer: Business Intelligence (SSRS, PowerBI, etc), Manager'\n 'Architect, DBA (Development Focus - tunes queries, indexes, does deployments), DBA (Production Focus - build & troubleshoot servers, HA/DR), Developer: Business Intelligence (SSRS, PowerBI, etc), Developer: T-SQL, Engineer'\n 'Architect, Data Scientist, DBA (Development Focus - tunes queries, indexes, does deployments), DBA (General - splits time evenly between writing & tuning queries AND building & troubleshooting servers), Developer: Business Intelligence (SSRS, PowerBI, etc), Developer: T-SQL'\n 'Analyst, Data Scientist, DBA (Development Focus - tunes queries, indexes, does deployments), DBA (Production Focus - build & troubleshoot servers, HA/DR), Developer: T-SQL, Manager'\n 'Architect, Data Scientist, Developer: App code (C#, JS, etc), Developer: T-SQL, Manager'\n 'DBA (Production Focus - build & troubleshoot servers, HA/DR), Developer: Business Intelligence (SSRS, PowerBI, etc), Manager'\n 'Data Scientist, DBA (Development Focus - tunes queries, indexes, does deployments), Developer: App code (C#, JS, etc), Developer: T-SQL'\n 'Architect, Data Scientist, DBA (Production Focus - build & troubleshoot servers, HA/DR), DBA (General - splits time evenly between writing & tuning queries AND building & troubleshooting servers), Developer: App code (C#, JS, etc), Developer: T-SQL, Engineer'\n 'Data Scientist, DBA (General - splits time evenly between writing & tuning queries AND building & troubleshooting servers)'\n 'DBA (Production Focus - build & troubleshoot servers, HA/DR), Developer: Business Intelligence (SSRS, PowerBI, etc), Developer: T-SQL, Manager'\n 'Analyst, DBA (Production Focus - build & troubleshoot servers, HA/DR), DBA (General - splits time evenly between writing & tuning queries AND building & troubleshooting servers)'\n 'Data Scientist, DBA (Development Focus - tunes queries, indexes, does deployments), Developer: App code (C#, JS, etc)'\n 'Analyst, Data Scientist, Manager'\n 'Analyst, DBA (Development Focus - tunes queries, indexes, does deployments), DBA (Production Focus - build & troubleshoot servers, HA/DR), Developer: Business Intelligence (SSRS, PowerBI, etc)'\n 'Architect, Data Scientist, DBA (General - splits time evenly between writing & tuning queries AND building & troubleshooting servers), Developer: App code (C#, JS, etc), Developer: Business Intelligence (SSRS, PowerBI, etc), Developer: T-SQL, Engineer'\n 'DBA (Development Focus - tunes queries, indexes, does deployments), DBA (Production Focus - build & troubleshoot servers, HA/DR), Developer: Business Intelligence (SSRS, PowerBI, etc), Developer: T-SQL, Engineer'\n 'Analyst, Architect, Data Scientist, DBA (General - splits time evenly between writing & tuning queries AND building & troubleshooting servers), Developer: Business Intelligence (SSRS, PowerBI, etc)']\nNot Asked                                                                                                                                                                                                                                                                                    4632\nDBA (Development Focus - tunes queries, indexes, does deployments)                                                                                                                                                                                                                            248\nDeveloper: T-SQL                                                                                                                                                                                                                                                                              213\nDBA (General - splits time evenly between writing & tuning queries AND building & troubleshooting servers)                                                                                                                                                                                    155\nDeveloper: Business Intelligence (SSRS, PowerBI, etc)                                                                                                                                                                                                                                         120\n                                                                                                                                                                                                                                                                                             ... \nAnalyst, Data Scientist, DBA (Development Focus - tunes queries, indexes, does deployments), DBA (General - splits time evenly between writing & tuning queries AND building & troubleshooting servers), Developer: Business Intelligence (SSRS, PowerBI, etc), Developer: T-SQL, Manager       1\nDBA (Development Focus - tunes queries, indexes, does deployments), Developer: Business Intelligence (SSRS, PowerBI, etc), Engineer, Manager                                                                                                                                                    1\nArchitect, DBA (Development Focus - tunes queries, indexes, does deployments), DBA (General - splits time evenly between writing & tuning queries AND building & troubleshooting servers), Developer: Business Intelligence (SSRS, PowerBI, etc), Developer: T-SQL                              1\nAnalyst, Architect, DBA (Development Focus - tunes queries, indexes, does deployments), DBA (General - splits time evenly between writing & tuning queries AND building & troubleshooting servers), Developer: T-SQL                                                                            1\nAnalyst, DBA (Development Focus - tunes queries, indexes, does deployments), Developer: App code (C#, JS, etc), Manager                                                                                                                                                                         1\nName: OtherJobDuties, Length: 555, dtype: int64\n"
     ]
    }
   ],
   "source": [
    "print(data2.OtherJobDuties.unique())\n",
    "print(data2.OtherJobDuties.value_counts())"
   ]
  },
  {
   "source": [
    "\n",
    "Comme il y a trop de valeur unique différente pour OtherJobDuties, je ne peux remplacer les valeurs manquantes par une valeur standard\n",
    "\n",
    "Conclusion sur les valeurs manquantes\n",
    "Je choisis donc de conserver l'ensemble des données dans ma base mais je note un point de vigilance quand j'aurais à utiliser les variables codePostal et OtherJobDuties\n",
    "\n",
    "Même travail pour la seconde base de données\n",
    "\n",
    "\n",
    "##3. Traitement des dates"
   ],
   "cell_type": "markdown",
   "metadata": {}
  },
  {
   "cell_type": "code",
   "execution_count": 22,
   "metadata": {},
   "outputs": [
    {
     "output_type": "stream",
     "name": "stdout",
     "text": [
      "index                                     int64\nSalaryUSD                               float64\nCountry                                  object\nPostalCode                               object\nEmploymentStatus                         object\nJobTitle                                 object\nManageStaff                              object\nYearsWithThisTypeOfJob                    int64\nHowManyCompanies                         object\nOtherPeopleOnYourTeam                    object\nCompanyEmployeesOverall                  object\nPopulationOfLargestCityWithin20Miles     object\nEmploymentSector                         object\nLookingForAnotherJob                     object\nCareerPlansThisYear                      object\nGender                                   object\nOtherJobDuties                           object\ndtype: object\n"
     ]
    }
   ],
   "source": [
    "print(data2.dtypes)"
   ]
  },
  {
   "source": [
    "Aucune de mes colonnes ne correspond à une date, je n'ai donc pas à faire de traitement\n",
    "\n",
    "##4. Traitement des doublons"
   ],
   "cell_type": "markdown",
   "metadata": {}
  },
  {
   "cell_type": "code",
   "execution_count": 24,
   "metadata": {},
   "outputs": [
    {
     "output_type": "stream",
     "name": "stdout",
     "text": [
      "False    8627\ndtype: int64\n"
     ]
    }
   ],
   "source": [
    "\n",
    "print(data2.duplicated().value_counts())"
   ]
  },
  {
   "source": [
    "Aucune des colonnes de ma base n'est dupliquée, je vérifie cependant que c'est également le cas sur la colonne index"
   ],
   "cell_type": "markdown",
   "metadata": {}
  },
  {
   "cell_type": "code",
   "execution_count": 25,
   "metadata": {},
   "outputs": [
    {
     "output_type": "stream",
     "name": "stdout",
     "text": [
      "False    8627\ndtype: int64\n"
     ]
    }
   ],
   "source": [
    "\n",
    "print(data2.duplicated('index').value_counts())"
   ]
  },
  {
   "cell_type": "code",
   "execution_count": 27,
   "metadata": {},
   "outputs": [
    {
     "output_type": "error",
     "ename": "SyntaxError",
     "evalue": "invalid syntax (<ipython-input-27-172bce3c7b93>, line 1)",
     "traceback": [
      "\u001b[0;36m  File \u001b[0;32m\"<ipython-input-27-172bce3c7b93>\"\u001b[0;36m, line \u001b[0;32m1\u001b[0m\n\u001b[0;31m    On est bon.\u001b[0m\n\u001b[0m       ^\u001b[0m\n\u001b[0;31mSyntaxError\u001b[0m\u001b[0;31m:\u001b[0m invalid syntax\n"
     ]
    }
   ],
   "source": [
    "On est bon.\n",
    "\n",
    "to be continued\n",
    "Avant de partir je sauvegarde mon travail dans my sql¶"
   ]
  },
  {
   "cell_type": "code",
   "execution_count": 28,
   "metadata": {},
   "outputs": [
    {
     "output_type": "error",
     "ename": "NameError",
     "evalue": "name 'df1' is not defined",
     "traceback": [
      "\u001b[0;31m---------------------------------------------------------------------------\u001b[0m",
      "\u001b[0;31mNameError\u001b[0m                                 Traceback (most recent call last)",
      "\u001b[0;32m<ipython-input-28-1e39e3d17248>\u001b[0m in \u001b[0;36m<module>\u001b[0;34m\u001b[0m\n\u001b[0;32m----> 1\u001b[0;31m \u001b[0msave_to_mysql\u001b[0m\u001b[0;34m(\u001b[0m\u001b[0mdb_connect\u001b[0m\u001b[0;34m=\u001b[0m\u001b[0mconnect\u001b[0m\u001b[0;34m,\u001b[0m\u001b[0mdf_to_save\u001b[0m\u001b[0;34m=\u001b[0m\u001b[0mdf1\u001b[0m\u001b[0;34m,\u001b[0m\u001b[0mdf_name\u001b[0m\u001b[0;34m=\u001b[0m\u001b[0;34m'Salary_01_v1.0'\u001b[0m\u001b[0;34m)\u001b[0m\u001b[0;34m\u001b[0m\u001b[0;34m\u001b[0m\u001b[0m\n\u001b[0m",
      "\u001b[0;31mNameError\u001b[0m: name 'df1' is not defined"
     ]
    }
   ],
   "source": [
    "save_to_mysql(db_connect=connect,df_to_save=data2,df_name='Salary_01_v1.0')"
   ]
  },
  {
   "cell_type": "code",
   "execution_count": null,
   "metadata": {},
   "outputs": [],
   "source": []
  }
 ]
}