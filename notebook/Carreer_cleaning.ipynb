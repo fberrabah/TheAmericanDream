{
 "metadata": {
  "language_info": {
   "codemirror_mode": {
    "name": "ipython",
    "version": 3
   },
   "file_extension": ".py",
   "mimetype": "text/x-python",
   "name": "python",
   "nbconvert_exporter": "python",
   "pygments_lexer": "ipython3",
   "version": "3.8.5-final"
  },
  "orig_nbformat": 2,
  "kernelspec": {
   "name": "python3",
   "display_name": "Python 3",
   "language": "python"
  }
 },
 "nbformat": 4,
 "nbformat_minor": 2,
 "cells": [
  {
   "cell_type": "code",
   "execution_count": 2,
   "metadata": {},
   "outputs": [],
   "source": [
    "import pandas as pd\n",
    "import sqlalchemy\n",
    "import mysql.connector\n",
    "\n",
    "#Pour que python reconnaisse un dossier comme un module il faut ajouter en son sein un fichier __init__.py \n",
    "#et également l'ajouter au PATH\n",
    "\n",
    "import sys  \n",
    "\n",
    "sys.path.insert(0, \"/home/apprenant/Desktop/AmericanDream/\")\n",
    "\n",
    "\n",
    "#On peut ensuite importer le dossier comme un module\n",
    "\n",
    "from src.d00_utils.mysql_utils import mysql_connect, save_to_mysql\n",
    "connect = mysql_connect()"
   ]
  },
  {
   "source": [
    "Importation des données depuis my sql\n"
   ],
   "cell_type": "markdown",
   "metadata": {}
  },
  {
   "source": [
    "##1. Sélection des colonnes\n",
    "J'affiche un échantillon de mes données pour analyser la pertinence des différentes colonnes    "
   ],
   "cell_type": "markdown",
   "metadata": {}
  },
  {
   "cell_type": "code",
   "execution_count": 3,
   "metadata": {},
   "outputs": [],
   "source": [
    "data = pd.read_sql(\"Analyst\",con=connect)\n",
    "data2 = pd.read_sql(\"Salary\",con=connect)"
   ]
  },
  {
   "cell_type": "code",
   "execution_count": 4,
   "metadata": {},
   "outputs": [
    {
     "output_type": "stream",
     "name": "stdout",
     "text": [
      "   index  Survey Year           Timestamp  SalaryUSD        Country  \\\n0      0         2020 2020-01-04 18:50:34   115000.0  United States   \n1      1         2020 2020-01-04 10:43:02   100000.0  United States   \n2      2         2020 2020-01-04 09:51:46   100000.0          Spain   \n3      3         2020 2020-01-04 01:08:54    70000.0  United States   \n4      4         2020 2020-01-03 15:28:54   110000.0  United States   \n\n  PostalCode       PrimaryDatabase  YearsWithThisDatabase  \\\n0         03  Microsoft SQL Server                     15   \n1       None                 Other                      6   \n2      28046  Microsoft SQL Server                      2   \n3      94133  Microsoft SQL Server                      3   \n4      95354                Oracle                     30   \n\n                                      OtherDatabases    EmploymentStatus  ...  \\\n0  Microsoft SQL Server, MongoDB, Azure SQL DB (a...  Full time employee  ...   \n1                                      MySQL/MariaDB  Full time employee  ...   \n2                                      MySQL/MariaDB  Full time employee  ...   \n3                                   Microsoft Access  Full time employee  ...   \n4  Microsoft SQL Server, Oracle, MySQL/MariaDB, P...  Full time employee  ...   \n\n  NewestVersionInProduction OldestVersionInProduction  \\\n0           SQL Server 2019           SQL Server 2016   \n1                  informix                  informix   \n2           SQL Server 2017           SQL Server 2017   \n3           SQL Server 2016           SQL Server 2012   \n4           SQL Server 2016         SQL Server 2008R2   \n\n   PopulationOfLargestCityWithin20Miles  EmploymentSector  \\\n0                  20K-99K (large town)  Private business   \n1                      1M+ (metropolis)  Private business   \n2                      1M+ (metropolis)  Private business   \n3                      1M+ (metropolis)  Private business   \n4                      100K-299K (city)        Non-profit   \n\n  LookingForAnotherJob                     CareerPlansThisYear  Gender  \\\n0            Not Asked  Stay with the same employer, same role    Male   \n1            Not Asked                       Prefer not to say    Male   \n2            Not Asked  Stay with the same employer, same role    Male   \n3            Not Asked         Change both employers and roles    Male   \n4            Not Asked  Stay with the same employer, same role    Male   \n\n  OtherJobDuties KindsOfTasksPerformed Counter  \n0      Not Asked             Not Asked       1  \n1      Not Asked             Not Asked       1  \n2      Not Asked             Not Asked       1  \n3      Not Asked             Not Asked       1  \n4      Not Asked             Not Asked       1  \n\n[5 rows x 32 columns]\nIndex(['index', 'Survey Year', 'Timestamp', 'SalaryUSD', 'Country',\n       'PostalCode', 'PrimaryDatabase', 'YearsWithThisDatabase',\n       'OtherDatabases', 'EmploymentStatus', 'JobTitle', 'ManageStaff',\n       'YearsWithThisTypeOfJob', 'HowManyCompanies', 'OtherPeopleOnYourTeam',\n       'CompanyEmployeesOverall', 'DatabaseServers', 'Education',\n       'EducationIsComputerRelated', 'Certifications', 'HoursWorkedPerWeek',\n       'TelecommuteDaysPerWeek', 'NewestVersionInProduction',\n       'OldestVersionInProduction', 'PopulationOfLargestCityWithin20Miles',\n       'EmploymentSector', 'LookingForAnotherJob', 'CareerPlansThisYear',\n       'Gender', 'OtherJobDuties', 'KindsOfTasksPerformed', 'Counter'],\n      dtype='object')\n"
     ]
    }
   ],
   "source": [
    "print(data2.head())\n",
    "print(data2.columns)"
   ]
  },
  {
   "cell_type": "code",
   "execution_count": 5,
   "metadata": {},
   "outputs": [],
   "source": [
    "data2 = data2[['index','SalaryUSD','Country','PostalCode','EmploymentStatus','JobTitle','ManageStaff','YearsWithThisTypeOfJob',\n",
    "          'HowManyCompanies','OtherPeopleOnYourTeam', 'CompanyEmployeesOverall',\n",
    "          'PopulationOfLargestCityWithin20Miles','EmploymentSector', 'LookingForAnotherJob', 'CareerPlansThisYear',\n",
    "          'Gender', 'OtherJobDuties']]"
   ]
  },
  {
   "source": [
    "##2. Valeurs manquantes\n",
    "Recherche des valeurs manquantes"
   ],
   "cell_type": "markdown",
   "metadata": {}
  },
  {
   "cell_type": "code",
   "execution_count": 6,
   "metadata": {},
   "outputs": [
    {
     "output_type": "stream",
     "name": "stdout",
     "text": [
      "index                                      0\nSalaryUSD                                  0\nCountry                                    0\nPostalCode                              1390\nEmploymentStatus                           0\nJobTitle                                   0\nManageStaff                                0\nYearsWithThisTypeOfJob                     0\nHowManyCompanies                           0\nOtherPeopleOnYourTeam                      0\nCompanyEmployeesOverall                    0\nPopulationOfLargestCityWithin20Miles       0\nEmploymentSector                           0\nLookingForAnotherJob                       0\nCareerPlansThisYear                        0\nGender                                     0\nOtherJobDuties                           620\ndtype: int64\n(8627, 17)\n"
     ]
    }
   ],
   "source": [
    "print(data2.isnull().sum()) \n",
    "print(data2.shape)"
   ]
  },
  {
   "source": [
    "\n",
    "Il me manque 1390 valeurs pour PostalCode et 620 pour OtherJobDUties sur un total de 8627 lignes. Ces deux colonnes ne sont pas au centre de mon études donc ça se vaut pas le cout de supprimer toute la ligne pour elles\n",
    "\n",
    "traitement de Postal code\n",
    "Cela ne ferait pas de sens de remplacer le code postal par un code postal arbitraire\n",
    "\n",
    "Traitement de OtherJobDuties"
   ],
   "cell_type": "markdown",
   "metadata": {}
  },
  {
   "cell_type": "code",
   "execution_count": 7,
   "metadata": {},
   "outputs": [],
   "source": [
    "data2 = data2[data2.Country == 'United States']"
   ]
  },
  {
   "cell_type": "code",
   "execution_count": 8,
   "metadata": {},
   "outputs": [],
   "source": [
    "data2 = data2[data2.Gender.isin([\"Male\",\"Female\"])]\n"
   ]
  },
  {
   "cell_type": "code",
   "execution_count": 9,
   "metadata": {},
   "outputs": [
    {
     "output_type": "stream",
     "name": "stdout",
     "text": [
      "      index  SalaryUSD        Country PostalCode    EmploymentStatus  \\\n0         0   115000.0  United States         03  Full time employee   \n1         1   100000.0  United States       None  Full time employee   \n3         3    70000.0  United States      94133  Full time employee   \n4         4   110000.0  United States      95354  Full time employee   \n5         5    79500.0  United States      78727  Full time employee   \n...     ...        ...            ...        ...                 ...   \n5722   5722    95000.0  United States      27244  Full time employee   \n5723   5723   105000.0  United States      43016  Full time employee   \n5724   5724   156000.0  United States       1463  Full time employee   \n5725   5725    49000.0  United States      75904  Full time employee   \n5728   5728   115000.0  United States      84095  Full time employee   \n\n                                               JobTitle ManageStaff  \\\n0     DBA (Production Focus - build & troubleshoot s...          No   \n1                     Developer: App code (C#, JS, etc)          No   \n3                                               Analyst          No   \n4     DBA (General - splits time evenly between writ...          No   \n5                                               Analyst          No   \n...                                                 ...         ...   \n5722  DBA (General - splits time evenly between writ...          No   \n5723  DBA (General - splits time evenly between writ...          No   \n5724                                          Architect          No   \n5725  DBA (General - splits time evenly between writ...          No   \n5728  DBA (General - splits time evenly between writ...          No   \n\n      YearsWithThisTypeOfJob  \\\n0                          5   \n1                          6   \n3                          3   \n4                         25   \n5                          2   \n...                      ...   \n5722                       6   \n5723                      20   \n5724                       5   \n5725                       3   \n5728                       1   \n\n                                       HowManyCompanies OtherPeopleOnYourTeam  \\\n0     1 (this is the only company where I've had thi...                     2   \n1     1 (this is the only company where I've had thi...           More than 5   \n3     1 (this is the only company where I've had thi...                     2   \n4                                                     3                  None   \n5     1 (this is the only company where I've had thi...                  None   \n...                                                 ...                   ...   \n5722                                          Not Asked                     1   \n5723                                          Not Asked                     1   \n5724                                          Not Asked           More than 5   \n5725                                          Not Asked                  None   \n5728                                          Not Asked                  None   \n\n     CompanyEmployeesOverall PopulationOfLargestCityWithin20Miles  \\\n0                  Not Asked                 20K-99K (large town)   \n1                  Not Asked                     1M+ (metropolis)   \n3                  Not Asked                     1M+ (metropolis)   \n4                  Not Asked                     100K-299K (city)   \n5                  Not Asked                     1M+ (metropolis)   \n...                      ...                                  ...   \n5722               Not Asked                            Not Asked   \n5723               Not Asked                            Not Asked   \n5724               Not Asked                            Not Asked   \n5725               Not Asked                            Not Asked   \n5728               Not Asked                            Not Asked   \n\n                           EmploymentSector LookingForAnotherJob  \\\n0                          Private business            Not Asked   \n1                          Private business            Not Asked   \n3                          Private business            Not Asked   \n4                                Non-profit            Not Asked   \n5                          Private business            Not Asked   \n...                                     ...                  ...   \n5722  Education (K-12, college, university)                   No   \n5723                       Private business                   No   \n5724                       Private business                   No   \n5725                       Private business                   No   \n5728                       Private business                   No   \n\n                                 CareerPlansThisYear Gender  \\\n0             Stay with the same employer, same role   Male   \n1                                  Prefer not to say   Male   \n3                    Change both employers and roles   Male   \n4             Stay with the same employer, same role   Male   \n5             Stay with the same employer, same role   Male   \n...                                              ...    ...   \n5722          Stay with the same employer, same role   Male   \n5723          Stay with the same employer, same role   Male   \n5724  Stay with the same employer,  but change roles   Male   \n5725          Stay with the same employer, same role   Male   \n5728          Stay with the same employer, same role   Male   \n\n                                         OtherJobDuties  \n0                                             Not Asked  \n1                                             Not Asked  \n3                                             Not Asked  \n4                                             Not Asked  \n5                                             Not Asked  \n...                                                 ...  \n5722  Analyst, Architect, DBA (Development Focus - t...  \n5723                                           Engineer  \n5724                                               None  \n5725                                   Developer: T-SQL  \n5728  DBA (Development Focus - tunes queries, indexe...  \n\n[3738 rows x 17 columns]\n"
     ]
    }
   ],
   "source": [
    "print(data2)"
   ]
  },
  {
   "cell_type": "code",
   "execution_count": 10,
   "metadata": {},
   "outputs": [
    {
     "output_type": "stream",
     "name": "stdout",
     "text": [
      "index                                     int64\nSalaryUSD                               float64\nCountry                                  object\nPostalCode                               object\nEmploymentStatus                         object\nJobTitle                                 object\nManageStaff                              object\nYearsWithThisTypeOfJob                    int64\nHowManyCompanies                         object\nOtherPeopleOnYourTeam                    object\nCompanyEmployeesOverall                  object\nPopulationOfLargestCityWithin20Miles     object\nEmploymentSector                         object\nLookingForAnotherJob                     object\nCareerPlansThisYear                      object\nGender                                   object\nOtherJobDuties                           object\ndtype: object\n"
     ]
    }
   ],
   "source": [
    "print(data2.dtypes)"
   ]
  },
  {
   "source": [
    "Aucune de mes colonnes ne correspond à une date, je n'ai donc pas à faire de traitement\n",
    "\n",
    "##3. Traitement des doublons"
   ],
   "cell_type": "markdown",
   "metadata": {}
  },
  {
   "cell_type": "code",
   "execution_count": 11,
   "metadata": {},
   "outputs": [
    {
     "output_type": "stream",
     "name": "stdout",
     "text": [
      "False    3738\ndtype: int64\n"
     ]
    }
   ],
   "source": [
    "\n",
    "print(data2.duplicated().value_counts())"
   ]
  },
  {
   "source": [
    "Aucune des colonnes de ma base n'est dupliquée, je vérifie cependant que c'est également le cas sur la colonne index"
   ],
   "cell_type": "markdown",
   "metadata": {}
  },
  {
   "cell_type": "code",
   "execution_count": 12,
   "metadata": {},
   "outputs": [
    {
     "output_type": "stream",
     "name": "stdout",
     "text": [
      "False    3738\ndtype: int64\n"
     ]
    }
   ],
   "source": [
    "\n",
    "print(data2.duplicated('index').value_counts())"
   ]
  },
  {
   "source": [
    "On est bon.\n",
    "\n",
    "to be continued\n",
    "Avant de partir je sauvegarde mon travail dans my sql"
   ],
   "cell_type": "markdown",
   "metadata": {}
  },
  {
   "cell_type": "code",
   "execution_count": 13,
   "metadata": {},
   "outputs": [],
   "source": [
    "save_to_mysql(db_connect=connect,df_to_save=data2,df_name='Salary_01_v1.0')"
   ]
  },
  {
   "source": [
    "#J'éffectue la même chose pour la 2eme tables"
   ],
   "cell_type": "markdown",
   "metadata": {}
  },
  {
   "cell_type": "code",
   "execution_count": 14,
   "metadata": {},
   "outputs": [
    {
     "output_type": "stream",
     "name": "stdout",
     "text": [
      "   index  Unnamed: 0                                          Job Title  \\\n0      0           0  Data Analyst, Center on Immigration and Justic...   \n1      1           1                               Quality Data Analyst   \n2      2           2  Senior Data Analyst, Insights & Analytics Team...   \n3      3           3                                       Data Analyst   \n4      4           4                             Reporting Data Analyst   \n\n              Salary Estimate  \\\n0  $37K-$66K (Glassdoor est.)   \n1  $37K-$66K (Glassdoor est.)   \n2  $37K-$66K (Glassdoor est.)   \n3  $37K-$66K (Glassdoor est.)   \n4  $37K-$66K (Glassdoor est.)   \n\n                                     Job Description  Rating  \\\n0  Are you eager to roll up your sleeves and harn...     3.2   \n1  Overview\\n\\nProvides analytical and technical ...     3.8   \n2  We’re looking for a Senior Data Analyst who ha...     3.4   \n3  Requisition NumberRR-0001939\\nRemote:Yes\\nWe c...     4.1   \n4  ABOUT FANDUEL GROUP\\n\\nFanDuel Group is a worl...     3.9   \n\n                              Company Name      Location  Headquarters  \\\n0           Vera Institute of Justice\\n3.2  New York, NY  New York, NY   \n1  Visiting Nurse Service of New York\\n3.8  New York, NY  New York, NY   \n2                         Squarespace\\n3.4  New York, NY  New York, NY   \n3                            Celerity\\n4.1  New York, NY    McLean, VA   \n4                             FanDuel\\n3.9  New York, NY  New York, NY   \n\n                     Size  Founded               Type of ownership  \\\n0    201 to 500 employees     1961          Nonprofit Organization   \n1        10000+ employees     1893          Nonprofit Organization   \n2  1001 to 5000 employees     2003               Company - Private   \n3    201 to 500 employees     2002  Subsidiary or Business Segment   \n4   501 to 1000 employees     2009               Company - Private   \n\n                           Industry                            Sector  \\\n0                 Social Assistance                        Non-Profit   \n1  Health Care Services & Hospitals                       Health Care   \n2                          Internet            Information Technology   \n3                       IT Services            Information Technology   \n4               Sports & Recreation  Arts, Entertainment & Recreation   \n\n                      Revenue Competitors Easy Apply  \n0  $100 to $500 million (USD)          -1       True  \n1      $2 to $5 billion (USD)          -1         -1  \n2    Unknown / Non-Applicable     GoDaddy         -1  \n3   $50 to $100 million (USD)          -1         -1  \n4  $100 to $500 million (USD)  DraftKings       True  \nIndex(['index', 'Unnamed: 0', 'Job Title', 'Salary Estimate',\n       'Job Description', 'Rating', 'Company Name', 'Location', 'Headquarters',\n       'Size', 'Founded', 'Type of ownership', 'Industry', 'Sector', 'Revenue',\n       'Competitors', 'Easy Apply'],\n      dtype='object')\n"
     ]
    }
   ],
   "source": [
    "print(data.head())\n",
    "print(data.columns)"
   ]
  },
  {
   "cell_type": "code",
   "execution_count": 15,
   "metadata": {},
   "outputs": [],
   "source": [
    "data = data[['index', 'Job Title', 'Salary Estimate',\n",
    "       'Job Description', 'Company Name', 'Location','Headquarters',\n",
    "       'Size', 'Type of ownership', 'Industry', 'Sector', 'Revenue']]"
   ]
  },
  {
   "source": [
    "les colonnes que je vais garder pour mon étude."
   ],
   "cell_type": "markdown",
   "metadata": {}
  },
  {
   "cell_type": "code",
   "execution_count": 16,
   "metadata": {},
   "outputs": [
    {
     "output_type": "stream",
     "name": "stdout",
     "text": [
      "index                0\nJob Title            0\nSalary Estimate      0\nJob Description      0\nCompany Name         1\nLocation             0\nHeadquarters         0\nSize                 0\nType of ownership    0\nIndustry             0\nSector               0\nRevenue              0\ndtype: int64\n(2253, 12)\n"
     ]
    }
   ],
   "source": [
    "print(data.isnull().sum()) \n",
    "print(data.shape)"
   ]
  },
  {
   "source": [
    "La data est plutot clean une seul erreur je ne toucherai donc pas "
   ],
   "cell_type": "markdown",
   "metadata": {}
  },
  {
   "source": [
    "print(data.dtypes)\n"
   ],
   "cell_type": "code",
   "metadata": {},
   "execution_count": 17,
   "outputs": [
    {
     "output_type": "stream",
     "name": "stdout",
     "text": [
      "index                 int64\nJob Title            object\nSalary Estimate      object\nJob Description      object\nCompany Name         object\nLocation             object\nHeadquarters         object\nSize                 object\nType of ownership    object\nIndustry             object\nSector               object\nRevenue              object\ndtype: object\n"
     ]
    }
   ]
  },
  {
   "cell_type": "code",
   "execution_count": 18,
   "metadata": {},
   "outputs": [
    {
     "output_type": "stream",
     "name": "stdout",
     "text": [
      "False    2253\ndtype: int64\n"
     ]
    }
   ],
   "source": [
    "print(data.duplicated().value_counts())"
   ]
  },
  {
   "cell_type": "code",
   "execution_count": 19,
   "metadata": {},
   "outputs": [
    {
     "output_type": "stream",
     "name": "stdout",
     "text": [
      "False    2253\ndtype: int64\n"
     ]
    }
   ],
   "source": [
    "print(data.duplicated('index').value_counts())"
   ]
  },
  {
   "cell_type": "code",
   "execution_count": 21,
   "metadata": {},
   "outputs": [],
   "source": [
    "data2.loc[data2[\"HowManyCompanies\"] == \"1 (this is the only company where I've had this kind of position)\", \"HowManyCompanies\"] = \"1\"\n",
    "data2.loc[data2[\"HowManyCompanies\"] == \"2 (I worked at another similar position elsewhere before this one)\", \"HowManyCompanies\"] = \"2\""
   ]
  },
  {
   "cell_type": "code",
   "execution_count": 23,
   "metadata": {},
   "outputs": [],
   "source": [
    "save_to_mysql(db_connect=connect,df_to_save=data,df_name='Analyst_01_v1.0')"
   ]
  },
  {
   "source": [
    "Je sauvegarde mon travail"
   ],
   "cell_type": "markdown",
   "metadata": {}
  }
 ]
}