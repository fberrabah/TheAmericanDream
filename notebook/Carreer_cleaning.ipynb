{
 "metadata": {
  "language_info": {
   "codemirror_mode": {
    "name": "ipython",
    "version": 3
   },
   "file_extension": ".py",
   "mimetype": "text/x-python",
   "name": "python",
   "nbconvert_exporter": "python",
   "pygments_lexer": "ipython3",
   "version": "3.8.5-final"
  },
  "orig_nbformat": 2,
  "kernelspec": {
   "name": "python3",
   "display_name": "Python 3",
   "language": "python"
  }
 },
 "nbformat": 4,
 "nbformat_minor": 2,
 "cells": [
  {
   "cell_type": "code",
   "execution_count": 1,
   "metadata": {},
   "outputs": [],
   "source": [
    "import pandas as pd\n",
    "import sqlalchemy\n",
    "import mysql.connector\n",
    "\n",
    "#Pour que python reconnaisse un dossier comme un module il faut ajouter en son sein un fichier __init__.py \n",
    "#et également l'ajouter au PATH\n",
    "\n",
    "import sys  \n",
    "\n",
    "sys.path.insert(0, \"/home/apprenant/Desktop/AmericanDream/\")\n",
    "\n",
    "\n",
    "#On peut ensuite importer le dossier comme un module\n",
    "\n",
    "from src.d00_utils.mysql_utils import mysql_connect, save_to_mysql\n",
    "connect = mysql_connect()"
   ]
  },
  {
   "source": [
    "Importation des données depuis my sql\n"
   ],
   "cell_type": "markdown",
   "metadata": {}
  },
  {
   "source": [
    "##1. Sélection des colonnes\n",
    "J'affiche un échantillon de mes données pour analyser la pertinence des différentes colonnes    "
   ],
   "cell_type": "markdown",
   "metadata": {}
  },
  {
   "cell_type": "code",
   "execution_count": 2,
   "metadata": {},
   "outputs": [],
   "source": [
    "data = pd.read_sql(\"Analyst\",con=connect)\n",
    "data2 = pd.read_sql(\"Salary\",con=connect)"
   ]
  },
  {
   "cell_type": "code",
   "execution_count": 4,
   "metadata": {},
   "outputs": [
    {
     "output_type": "stream",
     "name": "stdout",
     "text": [
      "   index  Survey Year           Timestamp  SalaryUSD        Country  \\\n0      0         2020 2020-01-04 18:50:34   115000.0  United States   \n1      1         2020 2020-01-04 10:43:02   100000.0  United States   \n2      2         2020 2020-01-04 09:51:46   100000.0          Spain   \n3      3         2020 2020-01-04 01:08:54    70000.0  United States   \n4      4         2020 2020-01-03 15:28:54   110000.0  United States   \n\n  PostalCode       PrimaryDatabase  YearsWithThisDatabase  \\\n0         03  Microsoft SQL Server                     15   \n1       None                 Other                      6   \n2      28046  Microsoft SQL Server                      2   \n3      94133  Microsoft SQL Server                      3   \n4      95354                Oracle                     30   \n\n                                      OtherDatabases    EmploymentStatus  ...  \\\n0  Microsoft SQL Server, MongoDB, Azure SQL DB (a...  Full time employee  ...   \n1                                      MySQL/MariaDB  Full time employee  ...   \n2                                      MySQL/MariaDB  Full time employee  ...   \n3                                   Microsoft Access  Full time employee  ...   \n4  Microsoft SQL Server, Oracle, MySQL/MariaDB, P...  Full time employee  ...   \n\n  NewestVersionInProduction OldestVersionInProduction  \\\n0           SQL Server 2019           SQL Server 2016   \n1                  informix                  informix   \n2           SQL Server 2017           SQL Server 2017   \n3           SQL Server 2016           SQL Server 2012   \n4           SQL Server 2016         SQL Server 2008R2   \n\n   PopulationOfLargestCityWithin20Miles  EmploymentSector  \\\n0                  20K-99K (large town)  Private business   \n1                      1M+ (metropolis)  Private business   \n2                      1M+ (metropolis)  Private business   \n3                      1M+ (metropolis)  Private business   \n4                      100K-299K (city)        Non-profit   \n\n  LookingForAnotherJob                     CareerPlansThisYear  Gender  \\\n0            Not Asked  Stay with the same employer, same role    Male   \n1            Not Asked                       Prefer not to say    Male   \n2            Not Asked  Stay with the same employer, same role    Male   \n3            Not Asked         Change both employers and roles    Male   \n4            Not Asked  Stay with the same employer, same role    Male   \n\n  OtherJobDuties KindsOfTasksPerformed Counter  \n0      Not Asked             Not Asked       1  \n1      Not Asked             Not Asked       1  \n2      Not Asked             Not Asked       1  \n3      Not Asked             Not Asked       1  \n4      Not Asked             Not Asked       1  \n\n[5 rows x 32 columns]\nIndex(['index', 'Survey Year', 'Timestamp', 'SalaryUSD', 'Country',\n       'PostalCode', 'PrimaryDatabase', 'YearsWithThisDatabase',\n       'OtherDatabases', 'EmploymentStatus', 'JobTitle', 'ManageStaff',\n       'YearsWithThisTypeOfJob', 'HowManyCompanies', 'OtherPeopleOnYourTeam',\n       'CompanyEmployeesOverall', 'DatabaseServers', 'Education',\n       'EducationIsComputerRelated', 'Certifications', 'HoursWorkedPerWeek',\n       'TelecommuteDaysPerWeek', 'NewestVersionInProduction',\n       'OldestVersionInProduction', 'PopulationOfLargestCityWithin20Miles',\n       'EmploymentSector', 'LookingForAnotherJob', 'CareerPlansThisYear',\n       'Gender', 'OtherJobDuties', 'KindsOfTasksPerformed', 'Counter'],\n      dtype='object')\n"
     ]
    }
   ],
   "source": [
    "print(data2.head())\n",
    "print(data2.columns)"
   ]
  },
  {
   "cell_type": "code",
   "execution_count": 5,
   "metadata": {},
   "outputs": [],
   "source": [
    "data2 = data2[['index','SalaryUSD','Country','PostalCode','EmploymentStatus','JobTitle','ManageStaff','YearsWithThisTypeOfJob',\n",
    "          'HowManyCompanies','OtherPeopleOnYourTeam', 'CompanyEmployeesOverall',\n",
    "          'PopulationOfLargestCityWithin20Miles','EmploymentSector', 'LookingForAnotherJob', 'CareerPlansThisYear',\n",
    "          'Gender', 'OtherJobDuties']]"
   ]
  },
  {
   "source": [
    "##2. Valeurs manquantes\n",
    "Recherche des valeurs manquantes"
   ],
   "cell_type": "markdown",
   "metadata": {}
  },
  {
   "cell_type": "code",
   "execution_count": 6,
   "metadata": {},
   "outputs": [
    {
     "output_type": "stream",
     "name": "stdout",
     "text": [
      "index                                      0\nSalaryUSD                                  0\nCountry                                    0\nPostalCode                              1390\nEmploymentStatus                           0\nJobTitle                                   0\nManageStaff                                0\nYearsWithThisTypeOfJob                     0\nHowManyCompanies                           0\nOtherPeopleOnYourTeam                      0\nCompanyEmployeesOverall                    0\nPopulationOfLargestCityWithin20Miles       0\nEmploymentSector                           0\nLookingForAnotherJob                       0\nCareerPlansThisYear                        0\nGender                                     0\nOtherJobDuties                           620\ndtype: int64\n(8627, 17)\n"
     ]
    }
   ],
   "source": [
    "print(data2.isnull().sum()) \n",
    "print(data2.shape)"
   ]
  },
  {
   "source": [
    "\n",
    "Il me manque 1390 valeurs pour PostalCode et 620 pour OtherJobDUties sur un total de 8627 lignes. Ces deux colonnes ne sont pas au centre de mon études donc ça se vaut pas le cout de supprimer toute la ligne pour elles\n",
    "\n",
    "traitement de Postal code\n",
    "Cela ne ferait pas de sens de remplacer le code postal par un code postal arbitraire\n",
    "\n",
    "Traitement de OtherJobDuties"
   ],
   "cell_type": "markdown",
   "metadata": {}
  },
  {
   "cell_type": "code",
   "execution_count": 9,
   "metadata": {},
   "outputs": [],
   "source": [
    "data2 = data2[data2.Country == 'United States']"
   ]
  },
  {
   "cell_type": "code",
   "execution_count": 10,
   "metadata": {},
   "outputs": [],
   "source": [
    "data2 = data2[data2.Gender.isin([\"Male\",\"Female\"])]\n"
   ]
  },
  {
   "cell_type": "code",
   "execution_count": 4,
   "metadata": {},
   "outputs": [
    {
     "output_type": "stream",
     "name": "stdout",
     "text": [
      "      index  Survey Year           Timestamp  SalaryUSD        Country  \\\n0         0         2020 2020-01-04 18:50:34   115000.0  United States   \n1         1         2020 2020-01-04 10:43:02   100000.0  United States   \n2         2         2020 2020-01-04 09:51:46   100000.0          Spain   \n3         3         2020 2020-01-04 01:08:54    70000.0  United States   \n4         4         2020 2020-01-03 15:28:54   110000.0  United States   \n...     ...          ...                 ...        ...            ...   \n5724   5724         2018 2017-12-11 08:52:52   156000.0  United States   \n5725   5725         2018 2017-12-11 08:00:55    49000.0  United States   \n5726   5726         2018 2017-12-11 02:28:07    60000.0          Spain   \n5727   5727         2018 2017-12-10 22:03:56    95000.0      Australia   \n5728   5728         2018 2017-12-10 12:44:06   115000.0  United States   \n\n     PostalCode       PrimaryDatabase  YearsWithThisDatabase  \\\n0            03  Microsoft SQL Server                     15   \n1          None                 Other                      6   \n2         28046  Microsoft SQL Server                      2   \n3         94133  Microsoft SQL Server                      3   \n4         95354                Oracle                     30   \n...         ...                   ...                    ...   \n5724       1463  Microsoft SQL Server                     20   \n5725      75904  Microsoft SQL Server                      5   \n5726      28080  Microsoft SQL Server                     10   \n5727       7000  Microsoft SQL Server                     10   \n5728      84095  Microsoft SQL Server                     15   \n\n                                         OtherDatabases  \\\n0     Microsoft SQL Server, MongoDB, Azure SQL DB (a...   \n1                                         MySQL/MariaDB   \n2                                         MySQL/MariaDB   \n3                                      Microsoft Access   \n4     Microsoft SQL Server, Oracle, MySQL/MariaDB, P...   \n...                                                 ...   \n5724             Microsoft Access, Azure SQL DB, Hadoop   \n5725      MySQL/MariaDB, MongoDB, DB2, Microsoft Access   \n5726  Microsoft SQL Server, Oracle, MySQL/MariaDB, P...   \n5727  Microsoft SQL Server, Microsoft Access, Azure ...   \n5728                       MySQL/MariaDB, Elasticsearch   \n\n                                       EmploymentStatus  ...  \\\n0                                    Full time employee  ...   \n1                                    Full time employee  ...   \n2                                    Full time employee  ...   \n3                                    Full time employee  ...   \n4                                    Full time employee  ...   \n...                                                 ...  ...   \n5724                                 Full time employee  ...   \n5725                                 Full time employee  ...   \n5726  Full time employee of a consulting/contracting...  ...   \n5727  Full time employee of a consulting/contracting...  ...   \n5728                                 Full time employee  ...   \n\n     NewestVersionInProduction OldestVersionInProduction  \\\n0              SQL Server 2019           SQL Server 2016   \n1                     informix                  informix   \n2              SQL Server 2017           SQL Server 2017   \n3              SQL Server 2016           SQL Server 2012   \n4              SQL Server 2016         SQL Server 2008R2   \n...                        ...                       ...   \n5724                 Not Asked                 Not Asked   \n5725                 Not Asked                 Not Asked   \n5726                 Not Asked                 Not Asked   \n5727                 Not Asked                 Not Asked   \n5728                 Not Asked                 Not Asked   \n\n      PopulationOfLargestCityWithin20Miles           EmploymentSector  \\\n0                     20K-99K (large town)           Private business   \n1                         1M+ (metropolis)           Private business   \n2                         1M+ (metropolis)           Private business   \n3                         1M+ (metropolis)           Private business   \n4                         100K-299K (city)                 Non-profit   \n...                                    ...                        ...   \n5724                             Not Asked           Private business   \n5725                             Not Asked           Private business   \n5726                             Not Asked           Private business   \n5727                             Not Asked  State/province government   \n5728                             Not Asked           Private business   \n\n                        LookingForAnotherJob  \\\n0                                  Not Asked   \n1                                  Not Asked   \n2                                  Not Asked   \n3                                  Not Asked   \n4                                  Not Asked   \n...                                      ...   \n5724                                      No   \n5725                                      No   \n5726                                      No   \n5727  Yes, but only passively (just curious)   \n5728                                      No   \n\n                                 CareerPlansThisYear  Gender  \\\n0             Stay with the same employer, same role    Male   \n1                                  Prefer not to say    Male   \n2             Stay with the same employer, same role    Male   \n3                    Change both employers and roles    Male   \n4             Stay with the same employer, same role    Male   \n...                                              ...     ...   \n5724  Stay with the same employer,  but change roles    Male   \n5725          Stay with the same employer, same role    Male   \n5726          Stay with the same employer, same role    Male   \n5727                               Prefer not to say    Male   \n5728          Stay with the same employer, same role    Male   \n\n                                         OtherJobDuties  \\\n0                                             Not Asked   \n1                                             Not Asked   \n2                                             Not Asked   \n3                                             Not Asked   \n4                                             Not Asked   \n...                                                 ...   \n5724                                               None   \n5725                                   Developer: T-SQL   \n5726  Architect, DBA (Development Focus - tunes quer...   \n5727  DBA (General - splits time evenly between writ...   \n5728  DBA (Development Focus - tunes queries, indexe...   \n\n                                  KindsOfTasksPerformed Counter  \n0                                             Not Asked       1  \n1                                             Not Asked       1  \n2                                             Not Asked       1  \n3                                             Not Asked       1  \n4                                             Not Asked       1  \n...                                                 ...     ...  \n5724           Meetings & management, Training/teaching       1  \n5725  Build scripts & automation tools, Manual tasks...       1  \n5726  Build scripts & automation tools, Manual tasks...       1  \n5727     Build scripts & automation tools, Manual tasks       1  \n5728  Build scripts & automation tools, Manual tasks...       1  \n\n[5624 rows x 32 columns]\n"
     ]
    }
   ],
   "source": [
    "print(data2)"
   ]
  },
  {
   "cell_type": "code",
   "execution_count": 9,
   "metadata": {},
   "outputs": [
    {
     "output_type": "stream",
     "name": "stdout",
     "text": [
      "index                                     int64\nSalaryUSD                               float64\nCountry                                  object\nPostalCode                               object\nEmploymentStatus                         object\nJobTitle                                 object\nManageStaff                              object\nYearsWithThisTypeOfJob                    int64\nHowManyCompanies                         object\nOtherPeopleOnYourTeam                    object\nCompanyEmployeesOverall                  object\nPopulationOfLargestCityWithin20Miles     object\nEmploymentSector                         object\nLookingForAnotherJob                     object\nCareerPlansThisYear                      object\nGender                                   object\nOtherJobDuties                           object\ndtype: object\n"
     ]
    }
   ],
   "source": [
    "print(data2.dtypes)"
   ]
  },
  {
   "source": [
    "Aucune de mes colonnes ne correspond à une date, je n'ai donc pas à faire de traitement\n",
    "\n",
    "##3. Traitement des doublons"
   ],
   "cell_type": "markdown",
   "metadata": {}
  },
  {
   "cell_type": "code",
   "execution_count": 10,
   "metadata": {},
   "outputs": [
    {
     "output_type": "stream",
     "name": "stdout",
     "text": [
      "False    5680\ndtype: int64\n"
     ]
    }
   ],
   "source": [
    "\n",
    "print(data2.duplicated().value_counts())"
   ]
  },
  {
   "source": [
    "Aucune des colonnes de ma base n'est dupliquée, je vérifie cependant que c'est également le cas sur la colonne index"
   ],
   "cell_type": "markdown",
   "metadata": {}
  },
  {
   "cell_type": "code",
   "execution_count": 11,
   "metadata": {},
   "outputs": [
    {
     "output_type": "stream",
     "name": "stdout",
     "text": [
      "False    5680\ndtype: int64\n"
     ]
    }
   ],
   "source": [
    "\n",
    "print(data2.duplicated('index').value_counts())"
   ]
  },
  {
   "source": [
    "On est bon.\n",
    "\n",
    "to be continued\n",
    "Avant de partir je sauvegarde mon travail dans my sql"
   ],
   "cell_type": "markdown",
   "metadata": {}
  },
  {
   "cell_type": "code",
   "execution_count": 12,
   "metadata": {},
   "outputs": [],
   "source": [
    "save_to_mysql(db_connect=connect,df_to_save=data2,df_name='Salary_01_v1.0')"
   ]
  },
  {
   "source": [
    "#J'éffectue la même chose pour la 2eme tables"
   ],
   "cell_type": "markdown",
   "metadata": {}
  },
  {
   "cell_type": "code",
   "execution_count": null,
   "metadata": {},
   "outputs": [],
   "source": [
    "print(data.head())\n",
    "print(data.columns)"
   ]
  },
  {
   "cell_type": "code",
   "execution_count": 72,
   "metadata": {},
   "outputs": [],
   "source": [
    "data = data[['index', 'Job Title', 'Salary Estimate',\n",
    "       'Job Description', 'Company Name', 'Location','Headquarters',\n",
    "       'Size', 'Type of ownership', 'Industry', 'Sector', 'Revenue']]"
   ]
  },
  {
   "source": [
    "les colonnes que je vais garder pour mon étude."
   ],
   "cell_type": "markdown",
   "metadata": {}
  },
  {
   "cell_type": "code",
   "execution_count": 73,
   "metadata": {},
   "outputs": [
    {
     "output_type": "stream",
     "name": "stdout",
     "text": [
      "index                0\nJob Title            0\nSalary Estimate      0\nJob Description      0\nCompany Name         1\nLocation             0\nHeadquarters         0\nSize                 0\nType of ownership    0\nIndustry             0\nSector               0\nRevenue              0\ndtype: int64\n(2253, 12)\n"
     ]
    }
   ],
   "source": [
    "print(data.isnull().sum()) \n",
    "print(data.shape)"
   ]
  },
  {
   "source": [
    "La data est plutot clean une seul erreur je ne toucherai donc pas "
   ],
   "cell_type": "markdown",
   "metadata": {}
  },
  {
   "source": [
    "print(data.dtypes)\n"
   ],
   "cell_type": "code",
   "metadata": {},
   "execution_count": 74,
   "outputs": [
    {
     "output_type": "stream",
     "name": "stdout",
     "text": [
      "index                 int64\nJob Title            object\nSalary Estimate      object\nJob Description      object\nCompany Name         object\nLocation             object\nHeadquarters         object\nSize                 object\nType of ownership    object\nIndustry             object\nSector               object\nRevenue              object\ndtype: object\n"
     ]
    }
   ]
  },
  {
   "cell_type": "code",
   "execution_count": 75,
   "metadata": {},
   "outputs": [
    {
     "output_type": "stream",
     "name": "stdout",
     "text": [
      "False    2253\ndtype: int64\n"
     ]
    }
   ],
   "source": [
    "print(data.duplicated().value_counts())"
   ]
  },
  {
   "cell_type": "code",
   "execution_count": 13,
   "metadata": {},
   "outputs": [
    {
     "output_type": "stream",
     "name": "stdout",
     "text": [
      "False    2253\ndtype: int64\n"
     ]
    }
   ],
   "source": [
    "print(data.duplicated('index').value_counts())"
   ]
  },
  {
   "cell_type": "code",
   "execution_count": 13,
   "metadata": {},
   "outputs": [],
   "source": [
    "save_to_mysql(db_connect=connect,df_to_save=data,df_name='Analyst_01_v1.0')"
   ]
  },
  {
   "source": [
    "Je sauvegarde mon travail"
   ],
   "cell_type": "markdown",
   "metadata": {}
  }
 ]
}